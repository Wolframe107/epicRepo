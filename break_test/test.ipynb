{
 "cells": [
  {
   "cell_type": "code",
   "execution_count": 4,
   "metadata": {},
   "outputs": [],
   "source": [
    "#Libaries \n",
    "import numpy as np\n",
    "import matplotlib.pyplot as plt\n",
    "import cv2\n",
    "from PIL import Image\n",
    "import pylab"
   ]
  },
  {
   "cell_type": "code",
   "execution_count": 5,
   "metadata": {},
   "outputs": [
    {
     "name": "stderr",
     "output_type": "stream",
     "text": [
      "C:\\Users\\mille\\AppData\\Local\\Temp\\ipykernel_20748\\275292006.py:5: RuntimeWarning: divide by zero encountered in double_scalars\n",
      "  PSNR = 10 * np.log10((255**2)/(np.mean((im1-im2)**2)))\n"
     ]
    },
    {
     "name": "stdout",
     "output_type": "stream",
     "text": [
      "139.72844039351853\n",
      "the frame is  1\n",
      "13.378156828703695\n",
      "the frame is  285\n",
      "14.150545428240747\n",
      "the frame is  378\n",
      "20.690509259259258\n",
      "the frame is  1145\n"
     ]
    }
   ],
   "source": [
    "from cv2 import PSNR\n",
    "\n",
    " \n",
    "cap = cv2.VideoCapture('test_video.mp4')\n",
    "\n",
    "if cap.isOpened() == False:\n",
    "    print(\"That's probably not the name of your clip\")\n",
    "\n",
    "cap_e = int(cap.get(0)) # Elapsed video time in milliseconds\n",
    "cap_w = int(cap.get(3)) # Frame width\n",
    "cap_h = int(cap.get(4)) # Frame height\n",
    "cap_r = int(cap.get(5)) # Frame rate\n",
    "cap_l = int(cap.get(7)) # Length in number of frames\n",
    "\n",
    "prev_frame = 0\n",
    "suggested_frames = []\n",
    "prev_PSNR = 0\n",
    "\n",
    "#prepping to extract a random frame\n",
    "count = 0\n",
    "while True:\n",
    "    # ret is true if video.read() returns a frame\n",
    "    # frame is the frame returned\n",
    "    ret, frame = cap.read()\n",
    "    \n",
    "    if ret is True:\n",
    "      #frame = cv2.cvtColor(frame, cv2.COLOR_BGR2RGB)\n",
    "\n",
    "      if count == 0:\n",
    "        prev_frame = frame\n",
    "\n",
    "      PSNR = CalculatePSNR(frame, prev_frame)\n",
    "\n",
    "      if abs(PSNR - prev_PSNR) > 10:\n",
    "        print(abs(PSNR - prev_PSNR))\n",
    "        print(\"the frame is \", count)\n",
    "        cv2.imwrite(\"frame\" + str(count) + \".jpg\", frame)\n",
    "        #plt.imshow(frame80, cmap = \"gray\")\n",
    "        #plt.show()\n",
    "\n",
    "      prev_PSNR = PSNR\n",
    "\n",
    "      \"\"\"\n",
    "      #extracts a random frame\n",
    "      if count == 79:\n",
    "        cv2.imwrite(\"frame.jpg\", frame)\n",
    "        YUVframe80 = np.rint(frameRGB2YUV(frame))\n",
    "        frame80 = YUVframe80[:,:,0].astype(int)\n",
    "        #plt.imshow(frame80, cmap = \"gray\")\n",
    "        #plt.show()\n",
    "      \"\"\"\n",
    "      count += 1\n",
    "        # 'q' to cancel\n",
    "      if cv2.waitKey(1) & 0xFF == ord('q'):\n",
    "          break\n",
    "    else:\n",
    "        break\n",
    "\n",
    "# Close down\n",
    "cap.release()\n",
    "\n",
    "cv2.destroyAllWindows()\n",
    "\n",
    "\n",
    "\n"
   ]
  },
  {
   "cell_type": "code",
   "execution_count": 2,
   "metadata": {},
   "outputs": [],
   "source": [
    "def frameRGB2YUV(RGBframe):\n",
    "  # Transform RGB to YUV\n",
    "  imagearray = np.array(RGBframe)\n",
    "  imagearray = imagearray.astype(\"uint8\")\n",
    "  transform_matrix = np.array([[0.2126, 0.7152, 0.0722], [-0.09991, -0.33609, 0.436], [0.615, -0.55861, -0.05639]])\n",
    "  YUVframe = np.matmul(imagearray, transform_matrix)\n",
    "  y, u, v = cv2.split(YUVframe)\n",
    "\n",
    "  # Downsamples/Upsamples\n",
    "  dim_down = (int(u.shape[1] / 2), int(u.shape[0] / 2))\n",
    "  dim_up = (int(u.shape[1]), int(u.shape[0]))\n",
    "  \n",
    "  u_comp = cv2.resize(cv2.resize(u, dim_down), dim_up)\n",
    "  v_comp = cv2.resize(cv2.resize(v, dim_down), dim_up)\n",
    "\n",
    "  YUVframe = cv2.merge((y, u_comp, v_comp))\n",
    "  YUVframe = np.clip(YUVframe, 0, 255)\n",
    "  \n",
    "  YUVframe = YUVframe.astype(\"uint8\")\n",
    "  \n",
    "  return YUVframe"
   ]
  },
  {
   "cell_type": "code",
   "execution_count": 3,
   "metadata": {},
   "outputs": [],
   "source": [
    "# Calc PSNR\n",
    "def CalculatePSNR(im1, im2):\n",
    "\n",
    "  \n",
    "  PSNR = 10 * np.log10((255**2)/(np.mean((im1-im2)**2)))\n",
    "\n",
    "\n",
    "  test_psnr = np.mean(im1-im2)\n",
    "  return test_psnr\n",
    "\n"
   ]
  }
 ],
 "metadata": {
  "kernelspec": {
   "display_name": "Python 3.8.7 64-bit",
   "language": "python",
   "name": "python3"
  },
  "language_info": {
   "codemirror_mode": {
    "name": "ipython",
    "version": 3
   },
   "file_extension": ".py",
   "mimetype": "text/x-python",
   "name": "python",
   "nbconvert_exporter": "python",
   "pygments_lexer": "ipython3",
   "version": "3.8.7"
  },
  "orig_nbformat": 4,
  "vscode": {
   "interpreter": {
    "hash": "8d7d1f59bf78ea7cf998eb9d50ae8f58f41b51d66364e8066d43fe5d3acf92cf"
   }
  }
 },
 "nbformat": 4,
 "nbformat_minor": 2
}
